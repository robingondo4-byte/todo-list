{
 "cells": [
  {
   "cell_type": "code",
   "execution_count": 1,
   "id": "5c07bcd3-445e-4834-8c58-5274630c33d3",
   "metadata": {},
   "outputs": [],
   "source": [
    "# todo_list.py\n",
    "def show_menu():\n",
    "    print(\"\\n==== TO-DO LIST ====\")\n",
    "    print(\"1. View tasks\")\n",
    "    print(\"2. Add task\")\n",
    "    print(\"3. Delete task\")\n",
    "    print(\"4. Exit\")\n"
   ]
  },
  {
   "cell_type": "code",
   "execution_count": 2,
   "id": "cbc475bd-3238-47db-8d98-7e7473d69149",
   "metadata": {},
   "outputs": [],
   "source": [
    "def load_tasks():\n",
    "    try:\n",
    "        with open(\"tasks.txt\", \"r\") as file:\n",
    "            tasks = file.read().splitlines()\n",
    "    except FileNotFoundError:\n",
    "        tasks = []\n",
    "    return tasks\n",
    "\n",
    "\n",
    "def save_tasks(tasks):\n",
    "    with open(\"tasks.txt\", \"w\") as file:\n",
    "        for task in tasks:\n",
    "            file.write(task + \"\\n\")\n"
   ]
  },
  {
   "cell_type": "code",
   "execution_count": 3,
   "id": "67427b4e-27a2-4d45-a7de-3cb1664cc525",
   "metadata": {},
   "outputs": [],
   "source": [
    "def view_tasks(tasks):\n",
    "    if not tasks:\n",
    "        print(\"No tasks found.\")\n",
    "    else:\n",
    "        print(\"\\nYour Tasks:\")\n",
    "        for i, task in enumerate(tasks, start=1):\n",
    "            print(f\"{i}. {task}\")\n",
    "\n",
    "\n",
    "def add_task(tasks):\n",
    "    task = input(\"Enter a new task: \")\n",
    "    tasks.append(task)\n",
    "    print(\"Task added!\")\n",
    "\n",
    "\n",
    "def delete_task(tasks):\n",
    "    view_tasks(tasks)\n",
    "    try:\n",
    "        num = int(input(\"Enter task number to delete: \"))\n",
    "        if 1 <= num <= len(tasks):\n",
    "            removed = tasks.pop(num - 1)\n",
    "            print(f\"Removed: {removed}\")\n",
    "        else:\n",
    "            print(\"Invalid task number.\")\n",
    "    except ValueError:\n",
    "        print(\"Please enter a number.\")\n"
   ]
  },
  {
   "cell_type": "code",
   "execution_count": 4,
   "id": "687bed9e-1f64-47ce-8050-74c7fee28d62",
   "metadata": {},
   "outputs": [],
   "source": [
    "def main():\n",
    "    tasks = load_tasks()\n",
    "    while True:\n",
    "        show_menu()\n",
    "        choice = input(\"Choose an option: \")\n",
    "\n",
    "        if choice == \"1\":\n",
    "            view_tasks(tasks)\n",
    "        elif choice == \"2\":\n",
    "            add_task(tasks)\n",
    "            save_tasks(tasks)\n",
    "        elif choice == \"3\":\n",
    "            delete_task(tasks)\n",
    "            save_tasks(tasks)\n",
    "        elif choice == \"4\":\n",
    "            print(\"Goodbye!\")\n",
    "            break\n",
    "        else:\n",
    "            print(\"Invalid option. Try again.\")\n"
   ]
  },
  {
   "cell_type": "code",
   "execution_count": null,
   "id": "eb83035a-c958-4465-88a0-2ba6f33f7a44",
   "metadata": {},
   "outputs": [
    {
     "name": "stdout",
     "output_type": "stream",
     "text": [
      "\n",
      "==== TO-DO LIST ====\n",
      "1. View tasks\n",
      "2. Add task\n",
      "3. Delete task\n",
      "4. Exit\n"
     ]
    },
    {
     "name": "stdin",
     "output_type": "stream",
     "text": [
      "Choose an option:  1\n"
     ]
    },
    {
     "name": "stdout",
     "output_type": "stream",
     "text": [
      "\n",
      "Your Tasks:\n",
      "1. wash the dishes\n",
      "2. water the garden\n",
      "3. feed the baby\n",
      "4. cook for gradma\n",
      "\n",
      "==== TO-DO LIST ====\n",
      "1. View tasks\n",
      "2. Add task\n",
      "3. Delete task\n",
      "4. Exit\n"
     ]
    }
   ],
   "source": [
    "if __name__ == \"__main__\":\n",
    "    main()"
   ]
  },
  {
   "cell_type": "code",
   "execution_count": null,
   "id": "88c6b393-a13f-4617-ad21-76f1199f02b6",
   "metadata": {},
   "outputs": [],
   "source": []
  },
  {
   "cell_type": "code",
   "execution_count": null,
   "id": "a5728dba-8f38-44ef-b712-c0bcc50cf7f1",
   "metadata": {},
   "outputs": [],
   "source": [
    "def mark_done(tasks):\n",
    "    view_tasks(tasks)\n",
    "    try:\n",
    "        num = int(input(\"Enter task number to mark as done: \"))\n",
    "        if 1 <= num <= len(tasks):\n",
    "            tasks[num - 1] = \"[Done] \" + tasks[num - 1]\n",
    "            print(\"Task marked as done!\")\n",
    "        else:\n",
    "            print(\"Invalid task number.\")\n",
    "    except ValueError:\n",
    "        print(\"Please enter a number.\")"
   ]
  },
  {
   "cell_type": "code",
   "execution_count": null,
   "id": "d052f6e4-f190-4ba0-b7ec-0b4182bbded8",
   "metadata": {},
   "outputs": [],
   "source": [
    "def show_menu():\n",
    "    print(\"\\n==== TO-DO LIST ====\")\n",
    "    print(\"1. View tasks\")\n",
    "    print(\"2. Add task\")\n",
    "    print(\"3. Delete task\")\n",
    "    print(\"4. Mark task as done\")  # new option\n",
    "    print(\"5. Exit\")"
   ]
  },
  {
   "cell_type": "markdown",
   "id": "ad360a4f-7e16-4a9d-b3a6-890b4f38bc10",
   "metadata": {},
   "source": [
    "# if choice == \"4\":\n",
    "    mark_done(tasks)\n",
    "    save_tasks(tasks)\n",
    "elif choice == \"5\":\n",
    "    print(\"Goodbye!\")\n",
    "    break"
   ]
  },
  {
   "cell_type": "code",
   "execution_count": null,
   "id": "4823a7e8-27c0-4a58-bd90-1550a0805b2b",
   "metadata": {},
   "outputs": [],
   "source": []
  }
 ],
 "metadata": {
  "kernelspec": {
   "display_name": "Python 3 (ipykernel)",
   "language": "python",
   "name": "python3"
  },
  "language_info": {
   "codemirror_mode": {
    "name": "ipython",
    "version": 3
   },
   "file_extension": ".py",
   "mimetype": "text/x-python",
   "name": "python",
   "nbconvert_exporter": "python",
   "pygments_lexer": "ipython3",
   "version": "3.12.7"
  }
 },
 "nbformat": 4,
 "nbformat_minor": 5
}
